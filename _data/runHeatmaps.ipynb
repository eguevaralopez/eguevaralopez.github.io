{
 "cells": [
  {
   "cell_type": "code",
   "execution_count": 1,
   "metadata": {},
   "outputs": [
    {
     "name": "stdout",
     "output_type": "stream",
     "text": [
      "--2021-04-11 09:40:31--  https://docs.google.com/spreadsheets/d/e/2PACX-1vTLPCB2D8_CdN4vCOS1VWLFspDh8uT6Rq4EzLW0e1JIhxUfgJqK5dsdrL7F3VLyrxXhhgNLNNzeSerc/pub?gid=170553600&single=true&output=csv\n",
      "Resolving docs.google.com (docs.google.com)... 172.217.2.142, 2607:f8b0:4008:811::200e\n",
      "Connecting to docs.google.com (docs.google.com)|172.217.2.142|:443... connected.\n",
      "HTTP request sent, awaiting response... 307 Temporary Redirect\n",
      "Location: https://doc-0c-bk-sheets.googleusercontent.com/pub/l5l039s6ni5uumqbsj9o11lmdc/buu7lbu6p6dleficenct2cur1k/1618155630000/114871121160870939545/*/e@2PACX-1vTLPCB2D8_CdN4vCOS1VWLFspDh8uT6Rq4EzLW0e1JIhxUfgJqK5dsdrL7F3VLyrxXhhgNLNNzeSerc?gid=170553600&single=true&output=csv [following]\n",
      "Warning: wildcards not supported in HTTP.\n",
      "--2021-04-11 09:40:31--  https://doc-0c-bk-sheets.googleusercontent.com/pub/l5l039s6ni5uumqbsj9o11lmdc/buu7lbu6p6dleficenct2cur1k/1618155630000/114871121160870939545/*/e@2PACX-1vTLPCB2D8_CdN4vCOS1VWLFspDh8uT6Rq4EzLW0e1JIhxUfgJqK5dsdrL7F3VLyrxXhhgNLNNzeSerc?gid=170553600&single=true&output=csv\n",
      "Resolving doc-0c-bk-sheets.googleusercontent.com (doc-0c-bk-sheets.googleusercontent.com)... 172.217.3.65, 2607:f8b0:4008:80f::2001\n",
      "Connecting to doc-0c-bk-sheets.googleusercontent.com (doc-0c-bk-sheets.googleusercontent.com)|172.217.3.65|:443... connected.\n",
      "HTTP request sent, awaiting response... 200 OK\n",
      "Length: unspecified [text/csv]\n",
      "Saving to: ‘dailymilesque_stats.csv’\n",
      "\n",
      "dailymilesque_stats     [ <=>                ]     729  --.-KB/s    in 0s      \n",
      "\n",
      "2021-04-11 09:40:32 (10,7 MB/s) - ‘dailymilesque_stats.csv’ saved [729]\n",
      "\n",
      "--2021-04-11 09:40:32--  https://docs.google.com/spreadsheets/d/e/2PACX-1vTLPCB2D8_CdN4vCOS1VWLFspDh8uT6Rq4EzLW0e1JIhxUfgJqK5dsdrL7F3VLyrxXhhgNLNNzeSerc/pub?gid=291786965&single=true&output=csv\n",
      "Resolving docs.google.com (docs.google.com)... 172.217.2.142, 2607:f8b0:4008:811::200e\n",
      "Connecting to docs.google.com (docs.google.com)|172.217.2.142|:443... connected.\n",
      "HTTP request sent, awaiting response... 307 Temporary Redirect\n",
      "Location: https://doc-0c-bk-sheets.googleusercontent.com/pub/l5l039s6ni5uumqbsj9o11lmdc/buu7lbu6p6dleficenct2cur1k/1618155630000/114871121160870939545/*/e@2PACX-1vTLPCB2D8_CdN4vCOS1VWLFspDh8uT6Rq4EzLW0e1JIhxUfgJqK5dsdrL7F3VLyrxXhhgNLNNzeSerc?gid=291786965&single=true&output=csv [following]\n",
      "Warning: wildcards not supported in HTTP.\n",
      "--2021-04-11 09:40:32--  https://doc-0c-bk-sheets.googleusercontent.com/pub/l5l039s6ni5uumqbsj9o11lmdc/buu7lbu6p6dleficenct2cur1k/1618155630000/114871121160870939545/*/e@2PACX-1vTLPCB2D8_CdN4vCOS1VWLFspDh8uT6Rq4EzLW0e1JIhxUfgJqK5dsdrL7F3VLyrxXhhgNLNNzeSerc?gid=291786965&single=true&output=csv\n",
      "Resolving doc-0c-bk-sheets.googleusercontent.com (doc-0c-bk-sheets.googleusercontent.com)... 172.217.3.65, 2607:f8b0:4008:80f::2001\n",
      "Connecting to doc-0c-bk-sheets.googleusercontent.com (doc-0c-bk-sheets.googleusercontent.com)|172.217.3.65|:443... connected.\n",
      "HTTP request sent, awaiting response... 200 OK\n",
      "Length: unspecified [text/csv]\n",
      "Saving to: ‘running_data.csv’\n",
      "\n",
      "running_data.csv        [ <=>                ]     465  --.-KB/s    in 0s      \n",
      "\n",
      "2021-04-11 09:40:33 (4,24 MB/s) - ‘running_data.csv’ saved [465]\n",
      "\n",
      "dailymilesque_stats.csv  runHeatmaps.ipynb  running_data.csv\n"
     ]
    }
   ],
   "source": [
    "\n",
    "\n",
    "!wget --no-check-certificate -O dailymilesque_stats.csv \\\n",
    "    'https://docs.google.com/spreadsheets/d/e/2PACX-1vTLPCB2D8_CdN4vCOS1VWLFspDh8uT6Rq4EzLW0e1JIhxUfgJqK5dsdrL7F3VLyrxXhhgNLNNzeSerc/pub?gid=170553600&single=true&output=csv'\n",
    "\n",
    "!wget --no-check-certificate -O running_data.csv \\\n",
    "    'https://docs.google.com/spreadsheets/d/e/2PACX-1vTLPCB2D8_CdN4vCOS1VWLFspDh8uT6Rq4EzLW0e1JIhxUfgJqK5dsdrL7F3VLyrxXhhgNLNNzeSerc/pub?gid=291786965&single=true&output=csv'\n",
    "\n",
    "%ls    "
   ]
  },
  {
   "cell_type": "code",
   "execution_count": 2,
   "metadata": {},
   "outputs": [
    {
     "data": {
      "text/html": [
       "<div>\n",
       "<style scoped>\n",
       "    .dataframe tbody tr th:only-of-type {\n",
       "        vertical-align: middle;\n",
       "    }\n",
       "\n",
       "    .dataframe tbody tr th {\n",
       "        vertical-align: top;\n",
       "    }\n",
       "\n",
       "    .dataframe thead th {\n",
       "        text-align: right;\n",
       "    }\n",
       "</style>\n",
       "<table border=\"1\" class=\"dataframe\">\n",
       "  <thead>\n",
       "    <tr style=\"text-align: right;\">\n",
       "      <th></th>\n",
       "      <th>fuente</th>\n",
       "      <th>date</th>\n",
       "      <th>distance (m)</th>\n",
       "      <th>time (s)</th>\n",
       "      <th>distance (km)</th>\n",
       "      <th>~energy (kcal)</th>\n",
       "      <th>time (h:mm:ss)</th>\n",
       "      <th>pace (min/km)</th>\n",
       "      <th>climb (m)</th>\n",
       "      <th>url</th>\n",
       "    </tr>\n",
       "  </thead>\n",
       "  <tbody>\n",
       "    <tr>\n",
       "      <th>0</th>\n",
       "      <td>strava</td>\n",
       "      <td>2021-03-29</td>\n",
       "      <td>3130.0</td>\n",
       "      <td>1293</td>\n",
       "      <td>3.13</td>\n",
       "      <td>292</td>\n",
       "      <td>21:33</td>\n",
       "      <td>6:53</td>\n",
       "      <td>12</td>\n",
       "      <td>NaN</td>\n",
       "    </tr>\n",
       "    <tr>\n",
       "      <th>1</th>\n",
       "      <td>strava</td>\n",
       "      <td>2021-04-01</td>\n",
       "      <td>3080.0</td>\n",
       "      <td>1273</td>\n",
       "      <td>3.08</td>\n",
       "      <td>287</td>\n",
       "      <td>21:13</td>\n",
       "      <td>6:53</td>\n",
       "      <td>12</td>\n",
       "      <td>NaN</td>\n",
       "    </tr>\n",
       "    <tr>\n",
       "      <th>2</th>\n",
       "      <td>strava</td>\n",
       "      <td>2021-04-04</td>\n",
       "      <td>3086.6</td>\n",
       "      <td>1266</td>\n",
       "      <td>3.09</td>\n",
       "      <td>288</td>\n",
       "      <td>21:06</td>\n",
       "      <td>6:50</td>\n",
       "      <td>12</td>\n",
       "      <td>NaN</td>\n",
       "    </tr>\n",
       "    <tr>\n",
       "      <th>3</th>\n",
       "      <td>strava</td>\n",
       "      <td>2021-04-06</td>\n",
       "      <td>3108.7</td>\n",
       "      <td>1211</td>\n",
       "      <td>3.11</td>\n",
       "      <td>290</td>\n",
       "      <td>20:11</td>\n",
       "      <td>6:30</td>\n",
       "      <td>12</td>\n",
       "      <td>https://www.strava.com/activities/5082345246</td>\n",
       "    </tr>\n",
       "    <tr>\n",
       "      <th>4</th>\n",
       "      <td>strava</td>\n",
       "      <td>2021-04-09</td>\n",
       "      <td>3117.2</td>\n",
       "      <td>1218</td>\n",
       "      <td>3.12</td>\n",
       "      <td>291</td>\n",
       "      <td>20:18</td>\n",
       "      <td>6:31</td>\n",
       "      <td>12</td>\n",
       "      <td>https://www.strava.com/activities/5099140507</td>\n",
       "    </tr>\n",
       "  </tbody>\n",
       "</table>\n",
       "</div>"
      ],
      "text/plain": [
       "   fuente        date  distance (m)  time (s)  distance (km)  ~energy (kcal)  \\\n",
       "0  strava  2021-03-29        3130.0      1293           3.13             292   \n",
       "1  strava  2021-04-01        3080.0      1273           3.08             287   \n",
       "2  strava  2021-04-04        3086.6      1266           3.09             288   \n",
       "3  strava  2021-04-06        3108.7      1211           3.11             290   \n",
       "4  strava  2021-04-09        3117.2      1218           3.12             291   \n",
       "\n",
       "  time (h:mm:ss) pace (min/km)   climb (m)  \\\n",
       "0          21:33           6:53         12   \n",
       "1          21:13           6:53         12   \n",
       "2          21:06           6:50         12   \n",
       "3          20:11           6:30         12   \n",
       "4          20:18           6:31         12   \n",
       "\n",
       "                                            url  \n",
       "0                                           NaN  \n",
       "1                                           NaN  \n",
       "2                                           NaN  \n",
       "3  https://www.strava.com/activities/5082345246  \n",
       "4  https://www.strava.com/activities/5099140507  "
      ]
     },
     "execution_count": 2,
     "metadata": {},
     "output_type": "execute_result"
    }
   ],
   "source": [
    "# https://calplot.readthedocs.io/en/latest/\n",
    "# https://matplotlib.org/stable/tutorials/colors/colormaps.html\n",
    "\n",
    "import pandas as pd\n",
    "import calplot\n",
    "import datetime\n",
    "\n",
    "csv2read = \"./running_data.csv\"\n",
    "dm_df = pd.read_csv(csv2read)\n",
    "#xlsx2read = \"~/Drive/IFTTT/runningData.xlsx\"\n",
    "#dm_df = pd.read_excel(xlsx2read)\n",
    "dm_df.tail()"
   ]
  },
  {
   "cell_type": "code",
   "execution_count": 3,
   "metadata": {},
   "outputs": [
    {
     "data": {
      "text/plain": [
       "date\n",
       "2021-03-29    3.13\n",
       "2021-04-01    3.08\n",
       "2021-04-04    3.09\n",
       "2021-04-06    3.11\n",
       "2021-04-09    3.12\n",
       "Name: distance (km), dtype: float64"
      ]
     },
     "execution_count": 3,
     "metadata": {},
     "output_type": "execute_result"
    }
   ],
   "source": [
    "distances = dm_df['distance (km)']\n",
    "#distances.dtype\n",
    "dm_df.date = pd.to_datetime(dm_df['date'], format='%Y-%m-%d')\n",
    "#dm_df.date.dtype\n",
    "runs = dm_df.date\n",
    "distances.index = runs\n",
    "#print(isinstance(distances, pd.Series)) #Confirm that the object is a Series\n",
    "distances"
   ]
  },
  {
   "cell_type": "code",
   "execution_count": 4,
   "metadata": {},
   "outputs": [
    {
     "name": "stderr",
     "output_type": "stream",
     "text": [
      "findfont: Font family ['Helvetica'] not found. Falling back to DejaVu Sans.\n"
     ]
    },
    {
     "data": {
      "text/plain": [
       "(<Figure size 900x122.4 with 2 Axes>,\n",
       " array([<matplotlib.axes._subplots.AxesSubplot object at 0x7fbff0a4d940>],\n",
       "       dtype=object))"
      ]
     },
     "execution_count": 4,
     "metadata": {},
     "output_type": "execute_result"
    },
    {
     "data": {
      "image/png": "[encoded data removed]",
      "text/plain": [
       "<Figure size 900x122.4 with 2 Axes>"
      ]
     },
     "metadata": {
      "needs_background": "light"
     },
     "output_type": "display_data"
    }
   ],
   "source": [
    "# https://stackoverflow.com/questions/21321670/how-to-change-fonts-in-matplotlib-python\n",
    "\n",
    "hoy = datetime.datetime.now()\n",
    "#print(now.strftime(\"%Y-%m-%d %H:%M:%S\"))\n",
    "meses = ['Ene', 'Feb', 'Mar', 'Abr', 'May', 'Jun', 'Jul', 'Ago', 'Set', 'Oct', 'Nov', 'Dic']\n",
    "dias_es = ['L','Ma','Mi','J','V','S','D']\n",
    "calplot.calplot(distances, yearascending=0, cmap='summer',\n",
    "                monthlabels=meses, dayticks=False,\n",
    "#                suptitle=\"distribución de km, 2021 [actualizado \"+hoy.strftime(\"%Y-%m-%d\")+\"]\"\n",
    "               )"
   ]
  }
 ],
 "metadata": {
  "kernelspec": {
   "display_name": "Python 3",
   "language": "python",
   "name": "python3"
  },
  "language_info": {
   "codemirror_mode": {
    "name": "ipython",
    "version": 3
   },
   "file_extension": ".py",
   "mimetype": "text/x-python",
   "name": "python",
   "nbconvert_exporter": "python",
   "pygments_lexer": "ipython3",
   "version": "3.8.5"
  }
 },
 "nbformat": 4,
 "nbformat_minor": 4
}
