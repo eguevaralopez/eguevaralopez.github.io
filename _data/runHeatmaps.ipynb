{
 "cells": [
  {
   "cell_type": "code",
   "execution_count": 1,
   "metadata": {},
   "outputs": [
    {
     "name": "stdout",
     "output_type": "stream",
     "text": [
      "--2021-04-15 19:55:50--  https://docs.google.com/spreadsheets/d/e/2PACX-1vTLPCB2D8_CdN4vCOS1VWLFspDh8uT6Rq4EzLW0e1JIhxUfgJqK5dsdrL7F3VLyrxXhhgNLNNzeSerc/pub?gid=170553600&single=true&output=csv\n",
      "Resolving docs.google.com (docs.google.com)... 172.217.204.101, 172.217.204.139, 172.217.204.102, ...\n",
      "Connecting to docs.google.com (docs.google.com)|172.217.204.101|:443... connected.\n",
      "HTTP request sent, awaiting response... 307 Temporary Redirect\n",
      "Location: https://doc-0c-bk-sheets.googleusercontent.com/pub/l5l039s6ni5uumqbsj9o11lmdc/jdcgafmr9rd47c8cgb4i4ma95g/1618538150000/114871121160870939545/*/e@2PACX-1vTLPCB2D8_CdN4vCOS1VWLFspDh8uT6Rq4EzLW0e1JIhxUfgJqK5dsdrL7F3VLyrxXhhgNLNNzeSerc?gid=170553600&single=true&output=csv [following]\n",
      "Warning: wildcards not supported in HTTP.\n",
      "--2021-04-15 19:55:50--  https://doc-0c-bk-sheets.googleusercontent.com/pub/l5l039s6ni5uumqbsj9o11lmdc/jdcgafmr9rd47c8cgb4i4ma95g/1618538150000/114871121160870939545/*/e@2PACX-1vTLPCB2D8_CdN4vCOS1VWLFspDh8uT6Rq4EzLW0e1JIhxUfgJqK5dsdrL7F3VLyrxXhhgNLNNzeSerc?gid=170553600&single=true&output=csv\n",
      "Resolving doc-0c-bk-sheets.googleusercontent.com (doc-0c-bk-sheets.googleusercontent.com)... 172.217.193.132, 2607:f8b0:400c:c03::84\n",
      "Connecting to doc-0c-bk-sheets.googleusercontent.com (doc-0c-bk-sheets.googleusercontent.com)|172.217.193.132|:443... connected.\n",
      "HTTP request sent, awaiting response... 200 OK\n",
      "Length: unspecified [text/csv]\n",
      "Saving to: ‘dailymilesque_stats.csv’\n",
      "\n",
      "dailymilesque_stats     [ <=>                ]     875  --.-KB/s    in 0s      \n",
      "\n",
      "2021-04-15 19:55:51 (5,06 MB/s) - ‘dailymilesque_stats.csv’ saved [875]\n",
      "\n",
      "--2021-04-15 19:55:52--  https://docs.google.com/spreadsheets/d/e/2PACX-1vTLPCB2D8_CdN4vCOS1VWLFspDh8uT6Rq4EzLW0e1JIhxUfgJqK5dsdrL7F3VLyrxXhhgNLNNzeSerc/pub?gid=291786965&single=true&output=csv\n",
      "Resolving docs.google.com (docs.google.com)... 172.217.204.101, 172.217.204.139, 172.217.204.102, ...\n",
      "Connecting to docs.google.com (docs.google.com)|172.217.204.101|:443... connected.\n",
      "HTTP request sent, awaiting response... 307 Temporary Redirect\n",
      "Location: https://doc-0c-bk-sheets.googleusercontent.com/pub/l5l039s6ni5uumqbsj9o11lmdc/jdcgafmr9rd47c8cgb4i4ma95g/1618538150000/114871121160870939545/*/e@2PACX-1vTLPCB2D8_CdN4vCOS1VWLFspDh8uT6Rq4EzLW0e1JIhxUfgJqK5dsdrL7F3VLyrxXhhgNLNNzeSerc?gid=291786965&single=true&output=csv [following]\n",
      "Warning: wildcards not supported in HTTP.\n",
      "--2021-04-15 19:55:52--  https://doc-0c-bk-sheets.googleusercontent.com/pub/l5l039s6ni5uumqbsj9o11lmdc/jdcgafmr9rd47c8cgb4i4ma95g/1618538150000/114871121160870939545/*/e@2PACX-1vTLPCB2D8_CdN4vCOS1VWLFspDh8uT6Rq4EzLW0e1JIhxUfgJqK5dsdrL7F3VLyrxXhhgNLNNzeSerc?gid=291786965&single=true&output=csv\n",
      "Resolving doc-0c-bk-sheets.googleusercontent.com (doc-0c-bk-sheets.googleusercontent.com)... 172.217.193.132, 2607:f8b0:400c:c03::84\n",
      "Connecting to doc-0c-bk-sheets.googleusercontent.com (doc-0c-bk-sheets.googleusercontent.com)|172.217.193.132|:443... connected.\n",
      "HTTP request sent, awaiting response... 200 OK\n",
      "Length: unspecified [text/csv]\n",
      "Saving to: ‘running_data.csv’\n",
      "\n",
      "running_data.csv        [ <=>                ]     978  --.-KB/s    in 0s      \n",
      "\n",
      "2021-04-15 19:55:53 (4,17 MB/s) - ‘running_data.csv’ saved [978]\n",
      "\n",
      "dailymilesque_stats.csv  runHeatmaps.ipynb  running_data.csv\n"
     ]
    }
   ],
   "source": [
    "!wget --no-check-certificate -O dailymilesque_stats.csv \\\n",
    "    'https://docs.google.com/spreadsheets/d/e/2PACX-1vTLPCB2D8_CdN4vCOS1VWLFspDh8uT6Rq4EzLW0e1JIhxUfgJqK5dsdrL7F3VLyrxXhhgNLNNzeSerc/pub?gid=170553600&single=true&output=csv'\n",
    "\n",
    "!wget --no-check-certificate -O running_data.csv \\\n",
    "    'https://docs.google.com/spreadsheets/d/e/2PACX-1vTLPCB2D8_CdN4vCOS1VWLFspDh8uT6Rq4EzLW0e1JIhxUfgJqK5dsdrL7F3VLyrxXhhgNLNNzeSerc/pub?gid=291786965&single=true&output=csv'\n",
    "\n",
    "%ls    "
   ]
  },
  {
   "cell_type": "code",
   "execution_count": 2,
   "metadata": {},
   "outputs": [
    {
     "data": {
      "text/html": [
       "<div>\n",
       "<style scoped>\n",
       "    .dataframe tbody tr th:only-of-type {\n",
       "        vertical-align: middle;\n",
       "    }\n",
       "\n",
       "    .dataframe tbody tr th {\n",
       "        vertical-align: top;\n",
       "    }\n",
       "\n",
       "    .dataframe thead th {\n",
       "        text-align: right;\n",
       "    }\n",
       "</style>\n",
       "<table border=\"1\" class=\"dataframe\">\n",
       "  <thead>\n",
       "    <tr style=\"text-align: right;\">\n",
       "      <th></th>\n",
       "      <th>fuente</th>\n",
       "      <th>date</th>\n",
       "      <th>distance (m)</th>\n",
       "      <th>time (s)</th>\n",
       "      <th>distance (km)</th>\n",
       "      <th>~energy (kcal)</th>\n",
       "      <th>time (h:mm:ss)</th>\n",
       "      <th>pace (min/km)</th>\n",
       "      <th>climb (m)</th>\n",
       "      <th>cadence (spm)</th>\n",
       "      <th>country</th>\n",
       "    </tr>\n",
       "  </thead>\n",
       "  <tbody>\n",
       "    <tr>\n",
       "      <th>3</th>\n",
       "      <td>https://www.strava.com/activities/5082345246</td>\n",
       "      <td>2021-04-06</td>\n",
       "      <td>3108.7</td>\n",
       "      <td>1211</td>\n",
       "      <td>3.11</td>\n",
       "      <td>290</td>\n",
       "      <td>20:11</td>\n",
       "      <td>6:30</td>\n",
       "      <td>12</td>\n",
       "      <td>NaN</td>\n",
       "      <td>Costa Rica</td>\n",
       "    </tr>\n",
       "    <tr>\n",
       "      <th>4</th>\n",
       "      <td>https://www.strava.com/activities/5099140507</td>\n",
       "      <td>2021-04-09</td>\n",
       "      <td>3117.2</td>\n",
       "      <td>1218</td>\n",
       "      <td>3.12</td>\n",
       "      <td>291</td>\n",
       "      <td>20:18</td>\n",
       "      <td>6:31</td>\n",
       "      <td>12</td>\n",
       "      <td>NaN</td>\n",
       "      <td>Costa Rica</td>\n",
       "    </tr>\n",
       "    <tr>\n",
       "      <th>5</th>\n",
       "      <td>https://www.strava.com/activities/5111847471</td>\n",
       "      <td>2021-04-11</td>\n",
       "      <td>3095.1</td>\n",
       "      <td>1206</td>\n",
       "      <td>3.10</td>\n",
       "      <td>289</td>\n",
       "      <td>20:06</td>\n",
       "      <td>6:30</td>\n",
       "      <td>12</td>\n",
       "      <td>NaN</td>\n",
       "      <td>Costa Rica</td>\n",
       "    </tr>\n",
       "    <tr>\n",
       "      <th>6</th>\n",
       "      <td>https://www.strava.com/activities/5123097342</td>\n",
       "      <td>2021-04-13 19:32:26</td>\n",
       "      <td>3084.8</td>\n",
       "      <td>1167</td>\n",
       "      <td>3.08</td>\n",
       "      <td>288</td>\n",
       "      <td>19:27</td>\n",
       "      <td>6:18</td>\n",
       "      <td>12</td>\n",
       "      <td>155.2</td>\n",
       "      <td>Costa Rica</td>\n",
       "    </tr>\n",
       "    <tr>\n",
       "      <th>7</th>\n",
       "      <td>https://www.strava.com/activities/5134355710</td>\n",
       "      <td>2021-04-15 19:07:02</td>\n",
       "      <td>3085.4</td>\n",
       "      <td>1142</td>\n",
       "      <td>3.09</td>\n",
       "      <td>288</td>\n",
       "      <td>19:02</td>\n",
       "      <td>6:10</td>\n",
       "      <td>12</td>\n",
       "      <td>163.0</td>\n",
       "      <td>Costa Rica</td>\n",
       "    </tr>\n",
       "  </tbody>\n",
       "</table>\n",
       "</div>"
      ],
      "text/plain": [
       "                                         fuente                 date  \\\n",
       "3  https://www.strava.com/activities/5082345246           2021-04-06   \n",
       "4  https://www.strava.com/activities/5099140507           2021-04-09   \n",
       "5  https://www.strava.com/activities/5111847471           2021-04-11   \n",
       "6  https://www.strava.com/activities/5123097342  2021-04-13 19:32:26   \n",
       "7  https://www.strava.com/activities/5134355710  2021-04-15 19:07:02   \n",
       "\n",
       "   distance (m)  time (s)  distance (km)  ~energy (kcal) time (h:mm:ss)  \\\n",
       "3        3108.7      1211           3.11             290          20:11   \n",
       "4        3117.2      1218           3.12             291          20:18   \n",
       "5        3095.1      1206           3.10             289          20:06   \n",
       "6        3084.8      1167           3.08             288          19:27   \n",
       "7        3085.4      1142           3.09             288          19:02   \n",
       "\n",
       "  pace (min/km)   climb (m)  cadence (spm)     country  \n",
       "3           6:30         12            NaN  Costa Rica  \n",
       "4           6:31         12            NaN  Costa Rica  \n",
       "5           6:30         12            NaN  Costa Rica  \n",
       "6           6:18         12          155.2  Costa Rica  \n",
       "7           6:10         12          163.0  Costa Rica  "
      ]
     },
     "execution_count": 2,
     "metadata": {},
     "output_type": "execute_result"
    }
   ],
   "source": [
    "# https://calplot.readthedocs.io/en/latest/\n",
    "# https://matplotlib.org/stable/tutorials/colors/colormaps.html\n",
    "\n",
    "import pandas as pd\n",
    "import calplot\n",
    "import datetime\n",
    "import matplotlib.pyplot as plt\n",
    "\n",
    "csv2read = \"./running_data.csv\"\n",
    "dm_df = pd.read_csv(csv2read)\n",
    "#xlsx2read = \"~/Drive/IFTTT/runningData.xlsx\"\n",
    "#dm_df = pd.read_excel(xlsx2read)\n",
    "dm_df.tail()"
   ]
  },
  {
   "cell_type": "code",
   "execution_count": 3,
   "metadata": {},
   "outputs": [
    {
     "data": {
      "text/plain": [
       "date\n",
       "2021-03-29 00:00:00    3.13\n",
       "2021-04-01 00:00:00    3.08\n",
       "2021-04-04 00:00:00    3.09\n",
       "2021-04-06 00:00:00    3.11\n",
       "2021-04-09 00:00:00    3.12\n",
       "2021-04-11 00:00:00    3.10\n",
       "2021-04-13 19:32:26    3.08\n",
       "2021-04-15 19:07:02    3.09\n",
       "Name: distance (km), dtype: float64"
      ]
     },
     "execution_count": 3,
     "metadata": {},
     "output_type": "execute_result"
    }
   ],
   "source": [
    "distances = dm_df['distance (km)']\n",
    "#distances.dtype\n",
    "dm_df.date = pd.to_datetime(dm_df['date'], format='%Y-%m-%d')\n",
    "#dm_df.date.dtype\n",
    "runs = dm_df.date\n",
    "distances.index = runs\n",
    "#print(isinstance(distances, pd.Series)) #Confirm that the object is a Series\n",
    "distances"
   ]
  },
  {
   "cell_type": "code",
   "execution_count": 4,
   "metadata": {},
   "outputs": [
    {
     "name": "stderr",
     "output_type": "stream",
     "text": [
      "findfont: Font family ['Helvetica'] not found. Falling back to DejaVu Sans.\n"
     ]
    },
    {
     "data": {
      "image/png": "[encoded data removed]",
      "text/plain": [
       "<Figure size 900x122.4 with 2 Axes>"
      ]
     },
     "metadata": {
      "needs_background": "light"
     },
     "output_type": "display_data"
    }
   ],
   "source": [
    "# https://stackoverflow.com/questions/21321670/how-to-change-fonts-in-matplotlib-python\n",
    "\n",
    "hoy = datetime.datetime.now()\n",
    "output_image = \"../assets/img/running_2021\"\n",
    "#print(now.strftime(\"%Y-%m-%d %H:%M:%S\"))\n",
    "meses = ['Ene', 'Feb', 'Mar', 'Abr', 'May', 'Jun', 'Jul', 'Ago', 'Set', 'Oct', 'Nov', 'Dic']\n",
    "dias_es = ['L','Ma','Mi','J','V','S','D']\n",
    "plot = calplot.calplot(distances, yearascending=0, cmap='summer',\n",
    "                monthlabels=meses, dayticks=False,\n",
    "#                suptitle=\"distribución de km, 2021 [actualizado \"+hoy.strftime(\"%Y-%m-%d\")+\"]\"\n",
    "               )\n",
    "\n",
    "plt.savefig(output_image+\".pdf\", transparent=True)\n",
    "plt.savefig(output_image+\".png\", transparent=True)\n",
    "plt.savefig(output_image+\".svg\", transparent=True)\n",
    "!convert -trim \"../assets/img/running_2021.png\" \"../assets/img/running_2021.png\""
   ]
  }
 ],
 "metadata": {
  "kernelspec": {
   "display_name": "Python 3",
   "language": "python",
   "name": "python3"
  },
  "language_info": {
   "codemirror_mode": {
    "name": "ipython",
    "version": 3
   },
   "file_extension": ".py",
   "mimetype": "text/x-python",
   "name": "python",
   "nbconvert_exporter": "python",
   "pygments_lexer": "ipython3",
   "version": "3.8.10"
  }
 },
 "nbformat": 4,
 "nbformat_minor": 4
}
