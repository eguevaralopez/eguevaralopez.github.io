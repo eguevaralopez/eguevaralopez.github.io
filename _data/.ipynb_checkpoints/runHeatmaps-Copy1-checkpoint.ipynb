{
 "cells": [
  {
   "cell_type": "code",
   "execution_count": 1,
   "metadata": {},
   "outputs": [
    {
     "name": "stdout",
     "output_type": "stream",
     "text": [
      "--2022-01-06 08:03:26--  https://docs.google.com/spreadsheets/d/e/2PACX-1vTLPCB2D8_CdN4vCOS1VWLFspDh8uT6Rq4EzLW0e1JIhxUfgJqK5dsdrL7F3VLyrxXhhgNLNNzeSerc/pub?gid=170553600&single=true&output=csv\n",
      "Resolving docs.google.com (docs.google.com)... 142.250.217.238, 2607:f8b0:4008:807::200e\n",
      "Connecting to docs.google.com (docs.google.com)|142.250.217.238|:443... connected.\n",
      "HTTP request sent, awaiting response... 307 Temporary Redirect\n",
      "Location: https://doc-0c-bk-sheets.googleusercontent.com/pub/70cmver1f290kjsnpar5ku2h9g/9frk7cpe1ielio6ds33lfbb0m8/1641477805000/114871121160870939545/*/e@2PACX-1vTLPCB2D8_CdN4vCOS1VWLFspDh8uT6Rq4EzLW0e1JIhxUfgJqK5dsdrL7F3VLyrxXhhgNLNNzeSerc?gid=170553600&single=true&output=csv [following]\n",
      "Warning: wildcards not supported in HTTP.\n",
      "--2022-01-06 08:03:27--  https://doc-0c-bk-sheets.googleusercontent.com/pub/70cmver1f290kjsnpar5ku2h9g/9frk7cpe1ielio6ds33lfbb0m8/1641477805000/114871121160870939545/*/e@2PACX-1vTLPCB2D8_CdN4vCOS1VWLFspDh8uT6Rq4EzLW0e1JIhxUfgJqK5dsdrL7F3VLyrxXhhgNLNNzeSerc?gid=170553600&single=true&output=csv\n",
      "Resolving doc-0c-bk-sheets.googleusercontent.com (doc-0c-bk-sheets.googleusercontent.com)... 142.250.217.193, 2607:f8b0:4008:813::2001\n",
      "Connecting to doc-0c-bk-sheets.googleusercontent.com (doc-0c-bk-sheets.googleusercontent.com)|142.250.217.193|:443... connected.\n",
      "HTTP request sent, awaiting response... 200 OK\n",
      "Length: unspecified [text/csv]\n",
      "Saving to: ‘dailymilesque_stats.csv’\n",
      "\n",
      "dailymilesque_stats     [ <=>                ]     935  --.-KB/s    in 0s      \n",
      "\n",
      "2022-01-06 08:03:28 (4,00 MB/s) - ‘dailymilesque_stats.csv’ saved [935]\n",
      "\n",
      "--2022-01-06 08:03:28--  https://docs.google.com/spreadsheets/d/e/2PACX-1vTLPCB2D8_CdN4vCOS1VWLFspDh8uT6Rq4EzLW0e1JIhxUfgJqK5dsdrL7F3VLyrxXhhgNLNNzeSerc/pub?gid=291786965&single=true&output=csv\n",
      "Resolving docs.google.com (docs.google.com)... 142.250.217.238, 2607:f8b0:4008:807::200e\n",
      "Connecting to docs.google.com (docs.google.com)|142.250.217.238|:443... connected.\n",
      "HTTP request sent, awaiting response... 307 Temporary Redirect\n",
      "Location: https://doc-0c-bk-sheets.googleusercontent.com/pub/70cmver1f290kjsnpar5ku2h9g/9frk7cpe1ielio6ds33lfbb0m8/1641477805000/114871121160870939545/*/e@2PACX-1vTLPCB2D8_CdN4vCOS1VWLFspDh8uT6Rq4EzLW0e1JIhxUfgJqK5dsdrL7F3VLyrxXhhgNLNNzeSerc?gid=291786965&single=true&output=csv [following]\n",
      "Warning: wildcards not supported in HTTP.\n",
      "--2022-01-06 08:03:29--  https://doc-0c-bk-sheets.googleusercontent.com/pub/70cmver1f290kjsnpar5ku2h9g/9frk7cpe1ielio6ds33lfbb0m8/1641477805000/114871121160870939545/*/e@2PACX-1vTLPCB2D8_CdN4vCOS1VWLFspDh8uT6Rq4EzLW0e1JIhxUfgJqK5dsdrL7F3VLyrxXhhgNLNNzeSerc?gid=291786965&single=true&output=csv\n",
      "Resolving doc-0c-bk-sheets.googleusercontent.com (doc-0c-bk-sheets.googleusercontent.com)... 142.250.217.193, 2607:f8b0:4008:813::2001\n",
      "Connecting to doc-0c-bk-sheets.googleusercontent.com (doc-0c-bk-sheets.googleusercontent.com)|142.250.217.193|:443... connected.\n",
      "HTTP request sent, awaiting response... 200 OK\n",
      "Length: unspecified [text/csv]\n",
      "Saving to: ‘running_data.csv’\n",
      "\n",
      "running_data.csv        [ <=>                ]     372  --.-KB/s    in 0s      \n",
      "\n",
      "2022-01-06 08:03:29 (3,18 MB/s) - ‘running_data.csv’ saved [372]\n",
      "\n",
      "dailymilesque_stats.csv  runHeatmaps-Copy1.ipynb  running_data.csv\n",
      "\u001b[0m\u001b[01;32mgraphData.py\u001b[0m*            runHeatmaps.ipynb        \u001b[01;32mupdateData\u001b[0m*\n"
     ]
    }
   ],
   "source": [
    "# get dailymile-sque statistics\n",
    "!wget --no-check-certificate -O dailymilesque_stats.csv 'https://docs.google.com/spreadsheets/d/e/2PACX-1vTLPCB2D8_CdN4vCOS1VWLFspDh8uT6Rq4EzLW0e1JIhxUfgJqK5dsdrL7F3VLyrxXhhgNLNNzeSerc/pub?gid=170553600&single=true&output=csv'\n",
    "\n",
    "# get current year runs\n",
    "!wget --no-check-certificate -O running_data.csv 'https://docs.google.com/spreadsheets/d/e/2PACX-1vTLPCB2D8_CdN4vCOS1VWLFspDh8uT6Rq4EzLW0e1JIhxUfgJqK5dsdrL7F3VLyrxXhhgNLNNzeSerc/pub?gid=291786965&single=true&output=csv'\n",
    "\n",
    "%ls"
   ]
  },
  {
   "cell_type": "code",
   "execution_count": 2,
   "metadata": {},
   "outputs": [],
   "source": [
    "# https://calplot.readthedocs.io/en/latest/\n",
    "# https://matplotlib.org/stable/tutorials/colors/colormaps.html\n",
    "\n",
    "import pandas as pd\n",
    "import calplot\n",
    "import datetime\n",
    "import matplotlib.pyplot as plt"
   ]
  },
  {
   "cell_type": "code",
   "execution_count": 3,
   "metadata": {},
   "outputs": [
    {
     "data": {
      "text/html": [
       "<div>\n",
       "<style scoped>\n",
       "    .dataframe tbody tr th:only-of-type {\n",
       "        vertical-align: middle;\n",
       "    }\n",
       "\n",
       "    .dataframe tbody tr th {\n",
       "        vertical-align: top;\n",
       "    }\n",
       "\n",
       "    .dataframe thead th {\n",
       "        text-align: right;\n",
       "    }\n",
       "</style>\n",
       "<table border=\"1\" class=\"dataframe\">\n",
       "  <thead>\n",
       "    <tr style=\"text-align: right;\">\n",
       "      <th></th>\n",
       "      <th>fuente</th>\n",
       "      <th>date</th>\n",
       "      <th>distance (m)</th>\n",
       "      <th>time (s)</th>\n",
       "      <th>distance (km)</th>\n",
       "      <th>~energy (kcal)</th>\n",
       "      <th>time (h:mm:ss)</th>\n",
       "      <th>pace (min/km)</th>\n",
       "      <th>climb (m)</th>\n",
       "      <th>cadence (spm)</th>\n",
       "      <th>country</th>\n",
       "    </tr>\n",
       "  </thead>\n",
       "  <tbody>\n",
       "    <tr>\n",
       "      <th>0</th>\n",
       "      <td>https://www.strava.com/activities/6469202165</td>\n",
       "      <td>2022-01-03 19:19:49</td>\n",
       "      <td>4015.6</td>\n",
       "      <td>1580</td>\n",
       "      <td>4.02</td>\n",
       "      <td>374.41</td>\n",
       "      <td>26:20:00</td>\n",
       "      <td>6:33</td>\n",
       "      <td>39.5</td>\n",
       "      <td>155</td>\n",
       "      <td>Costa Rica</td>\n",
       "    </tr>\n",
       "    <tr>\n",
       "      <th>1</th>\n",
       "      <td>https://www.strava.com/activities/6479176876</td>\n",
       "      <td>2022-01-05 18:25:58</td>\n",
       "      <td>3950.6</td>\n",
       "      <td>1570</td>\n",
       "      <td>3.95</td>\n",
       "      <td>368.35</td>\n",
       "      <td>26:10:00</td>\n",
       "      <td>6:37</td>\n",
       "      <td>40.8</td>\n",
       "      <td>154</td>\n",
       "      <td>Costa Rica</td>\n",
       "    </tr>\n",
       "  </tbody>\n",
       "</table>\n",
       "</div>"
      ],
      "text/plain": [
       "                                         fuente                 date  \\\n",
       "0  https://www.strava.com/activities/6469202165  2022-01-03 19:19:49   \n",
       "1  https://www.strava.com/activities/6479176876  2022-01-05 18:25:58   \n",
       "\n",
       "   distance (m)  time (s)  distance (km)  ~energy (kcal) time (h:mm:ss)  \\\n",
       "0        4015.6      1580           4.02          374.41       26:20:00   \n",
       "1        3950.6      1570           3.95          368.35       26:10:00   \n",
       "\n",
       "  pace (min/km)   climb (m)  cadence (spm)     country  \n",
       "0           6:33       39.5            155  Costa Rica  \n",
       "1           6:37       40.8            154  Costa Rica  "
      ]
     },
     "execution_count": 3,
     "metadata": {},
     "output_type": "execute_result"
    }
   ],
   "source": [
    "csv2read = \"./running_data.csv\"\n",
    "dm_df = pd.read_csv(csv2read)\n",
    "#xlsx2read = \"~/Drive/IFTTT/runningData.xlsx\"\n",
    "#dm_df = pd.read_excel(xlsx2read)\n",
    "dm_df.tail()"
   ]
  },
  {
   "cell_type": "code",
   "execution_count": 4,
   "metadata": {},
   "outputs": [
    {
     "data": {
      "text/plain": [
       "0   2022-01-03 19:19:49\n",
       "1   2022-01-05 18:25:58\n",
       "Name: date, dtype: datetime64[ns]"
      ]
     },
     "execution_count": 4,
     "metadata": {},
     "output_type": "execute_result"
    }
   ],
   "source": [
    "distances = dm_df['distance (km)']\n",
    "#distances.dtype\n",
    "dm_df.date = pd.to_datetime(dm_df['date'], format='%Y-%m-%d')\n",
    "#dm_df.date.dtype\n",
    "runs = dm_df.date\n",
    "distances.index = runs\n",
    "#print(isinstance(distances, pd.Series)) #Confirm that the object is a Series\n",
    "runs"
   ]
  },
  {
   "cell_type": "code",
   "execution_count": 12,
   "metadata": {},
   "outputs": [
    {
     "data": {
      "image/png": "[encoded data removed]",
      "text/plain": [
       "<Figure size 900x122.4 with 2 Axes>"
      ]
     },
     "metadata": {
      "needs_background": "light"
     },
     "output_type": "display_data"
    }
   ],
   "source": [
    "# https://stackoverflow.com/questions/21321670/how-to-change-fonts-in-matplotlib-python\n",
    "\n",
    "# hoy = datetime.datetime.now()\n",
    "output_image = \"../assets/img/running_current\"\n",
    "# print(now.strftime(\"%Y-%m-%d %H:%M:%S\"))\n",
    "meses = ['Ene', 'Feb', 'Mar', 'Abr', 'May', 'Jun', 'Jul', 'Ago', 'Set', 'Oct', 'Nov', 'Dic']\n",
    "dias_es = ['L','Ma','Mi','J','V','S','D']\n",
    "plot = calplot.calplot( distances, yearascending=0, cmap='summer', dropzero=True,\n",
    "                monthlabels=meses, dayticks=False )\n",
    "\n",
    "# plt.savefig(output_image+\".pdf\", transparent=True)\n",
    "plt.savefig(output_image+\".png\", transparent=True)\n",
    "# plt.savefig(output_image+\".svg\", transparent=True)\n",
    "!convert -trim \"../assets/img/running_current.png\" \"../assets/img/running_current.png\""
   ]
  },
  {
   "cell_type": "code",
   "execution_count": null,
   "metadata": {},
   "outputs": [],
   "source": []
  }
 ],
 "metadata": {
  "kernelspec": {
   "display_name": "Python 3",
   "language": "python",
   "name": "python3"
  },
  "language_info": {
   "codemirror_mode": {
    "name": "ipython",
    "version": 3
   },
   "file_extension": ".py",
   "mimetype": "text/x-python",
   "name": "python",
   "nbconvert_exporter": "python",
   "pygments_lexer": "ipython3",
   "version": "3.8.10"
  }
 },
 "nbformat": 4,
 "nbformat_minor": 4
}
